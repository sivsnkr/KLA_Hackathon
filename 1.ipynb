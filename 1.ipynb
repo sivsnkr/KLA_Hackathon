{
 "cells": [
  {
   "cell_type": "code",
   "execution_count": 1,
   "metadata": {},
   "outputs": [],
   "source": [
    "# read image data\n",
    "import cv2\n",
    "def read_image(path):\n",
    "    img = cv2.imread(path,cv2.IMREAD_GRAYSCALE)\n",
    "    return img"
   ]
  },
  {
   "cell_type": "code",
   "execution_count": 2,
   "metadata": {},
   "outputs": [],
   "source": [
    "import json\n",
    "def get_die_data(path):\n",
    "    data = \"\"\n",
    "    with open(path) as f:\n",
    "        data = json.load(f)\n",
    "    die_data,care_areas,exclusion_zones = data['die'],data['care_areas'],data['exclusion_zones']\n",
    "    return die_data,care_areas,exclusion_zones"
   ]
  },
  {
   "cell_type": "code",
   "execution_count": 3,
   "metadata": {},
   "outputs": [],
   "source": [
    "die_data,care_areas,exclusion_zones = get_die_data(\"/Users/shivshankar/Shiv/KLA_Hackathon/Level_3_data/input.json\")\n",
    "single_die = \"\""
   ]
  },
  {
   "cell_type": "code",
   "execution_count": 4,
   "metadata": {},
   "outputs": [],
   "source": [
    "frame_height = ''\n",
    "frame_width = ''\n",
    "img = read_image(\"/Users/shivshankar/Shiv/KLA_Hackathon/Level_3_data/wafer_image_3.png\")\n",
    "(frame_height,frame_width) = img.shape\n",
    "# print(frame_height,frame_width)\n",
    "number_of_h_frame,number_of_v_frame = (die_data['width']*die_data['columns'])//frame_width,(die_data['height']*die_data['rows'])//frame_height"
   ]
  },
  {
   "cell_type": "code",
   "execution_count": 5,
   "metadata": {},
   "outputs": [],
   "source": [
    "# print(number_of_h_frame,number_of_v_frame)"
   ]
  },
  {
   "cell_type": "code",
   "execution_count": 6,
   "metadata": {},
   "outputs": [],
   "source": [
    "# check if pixel in care_area\n",
    "def check_care_area_pixel(i,j,value):\n",
    "    maxx_care = value['bottom_right']['x']\n",
    "    miny_care = value['bottom_right']['y']\n",
    "    minx_care = value['top_left']['x']\n",
    "    maxy_care = value['top_left']['y']\n",
    "    valid = 0\n",
    "    if i >= minx_care and i <= maxx_care and j >= miny_care and j <= maxy_care:\n",
    "        valid = 1\n",
    "    return valid"
   ]
  },
  {
   "cell_type": "code",
   "execution_count": 7,
   "metadata": {},
   "outputs": [],
   "source": [
    "# check if pixel in exclusion zones\n",
    "def check_exclusion_zones_pixel(i,j,value):\n",
    "    maxx_care = value['bottom_right']['x']\n",
    "    miny_care = value['bottom_right']['y']\n",
    "    minx_care = value['top_left']['x']\n",
    "    maxy_care = value['top_left']['y']\n",
    "    valid = 0\n",
    "    if i >= minx_care and i <= maxx_care and j >= miny_care and j <= maxy_care:\n",
    "        valid = 1\n",
    "    return valid"
   ]
  },
  {
   "cell_type": "code",
   "execution_count": 8,
   "metadata": {},
   "outputs": [],
   "source": [
    "# check weather count this error\n",
    "def check_index(i,j,care_areas,exclusion_zones):\n",
    "    is_in_care_area = 0\n",
    "    is_in_exclusion_zones = 0\n",
    "    for value in care_areas:\n",
    "        is_in_care_area = is_in_care_area or check_care_area_pixel(i,j,value)\n",
    "    for value in exclusion_zones:\n",
    "        is_in_exclusion_zones = is_in_exclusion_zones or check_exclusion_zones_pixel(i,j,value)\n",
    "    if is_in_exclusion_zones:\n",
    "        return 0\n",
    "    if is_in_care_area:\n",
    "        return 1\n",
    "    return 0"
   ]
  },
  {
   "cell_type": "code",
   "execution_count": 9,
   "metadata": {},
   "outputs": [],
   "source": [
    "# combine image row wise\n",
    "def combine_image_row_wise(i,j,dirn):\n",
    "    first_val = 1\n",
    "    c = \"\"\n",
    "    for ind in range(i,j):\n",
    "        img = read_image(\"/Users/shivshankar/Shiv/KLA_Hackathon/Level_3_data/wafer_image_\"+str(ind)+\".png\")\n",
    "        if first_val == 1:\n",
    "            c = img\n",
    "            first_val = 0\n",
    "        else:\n",
    "            if dirn == 1:\n",
    "                c = np.concatenate((img,c),axis=1)\n",
    "            else:\n",
    "                c = np.concatenate((c,img),axis=1)\n",
    "    return c"
   ]
  },
  {
   "cell_type": "code",
   "execution_count": 10,
   "metadata": {},
   "outputs": [],
   "source": [
    "# combine_image_row_wise(1,6)\n",
    "# ind = 1\n",
    "# for i in range(1,4):\n",
    "#     c_value = combine_image_row_wise(ind,ind+5)\n",
    "#     ind+=5\n",
    "# a = [[1,2,3],[3,4,5]]\n",
    "# b = [[1,2,3],[3,4,5]]\n",
    "# c = np.concatenate((a,b),axis=0)\n",
    "# print(c)"
   ]
  },
  {
   "cell_type": "code",
   "execution_count": 11,
   "metadata": {},
   "outputs": [],
   "source": [
    "# combine all image\n",
    "import numpy as np\n",
    "def combine_image():\n",
    "    first_val = 1\n",
    "    c = \"\"\n",
    "    dirn = 0\n",
    "    ind = 1\n",
    "#     number_of_h_frame,number_of_v_frame\n",
    "    for i in range(1,number_of_v_frame+1):\n",
    "        c_value = combine_image_row_wise(ind,ind+number_of_h_frame,dirn)\n",
    "        ind+=number_of_h_frame\n",
    "        if first_val == 1:\n",
    "            c = c_value\n",
    "            first_val = 0\n",
    "        else:\n",
    "            c = np.concatenate((c,c_value),axis=0)\n",
    "        dirn = 1-dirn\n",
    "    print(c.shape)\n",
    "    return c"
   ]
  },
  {
   "cell_type": "code",
   "execution_count": 12,
   "metadata": {},
   "outputs": [],
   "source": [
    "# get all individual dies\n",
    "import numpy as np\n",
    "def individual_dies():\n",
    "    c = combine_image()\n",
    "    (j,i) = c.shape\n",
    "    dies = dict()\n",
    "    dies_count = 1\n",
    "    for indj in range(0,j,die_data['height']):\n",
    "        for ind in range(0,i,die_data['width']):\n",
    "            a = c[indj:indj+die_data['height'],ind:ind+die_data['width']]\n",
    "            dies[str(dies_count)] = a\n",
    "            dies_count+=1\n",
    "    print(\"dies_count %s \" %(dies_count))\n",
    "    return dies"
   ]
  },
  {
   "cell_type": "code",
   "execution_count": 13,
   "metadata": {},
   "outputs": [
    {
     "name": "stdout",
     "output_type": "stream",
     "text": [
      "(7500, 16000)\n",
      "dies_count 41 \n"
     ]
    }
   ],
   "source": [
    "all_dies = individual_dies()\n",
    "# from PIL import Image as im\n",
    "# data = im.fromarray(all_dies['1'])\n",
    "# data.save('gfg_dummy_pic.png')"
   ]
  },
  {
   "cell_type": "code",
   "execution_count": 14,
   "metadata": {},
   "outputs": [],
   "source": [
    "# return optimal die\n",
    "\n",
    "#calculate the frequency of pixel value at each coordinates\n",
    "def calculate_freq():\n",
    "    freq = []\n",
    "    for i in range(die_data['height']):\n",
    "        a = []\n",
    "        for j in range(die_data['width']):\n",
    "            s = dict()\n",
    "            a.append(s)\n",
    "        freq.append(a)\n",
    "\n",
    "    for [key,value] in all_dies.items():\n",
    "        for i in range(die_data['height']):\n",
    "            for j in range(die_data['width']):\n",
    "                if str(value[i][j]) in freq[i][j]:\n",
    "                    freq[i][j][str(value[i][j])]+=1\n",
    "                else:\n",
    "                    freq[i][j][str(value[i][j])]=1\n",
    "\n",
    "    return freq"
   ]
  },
  {
   "cell_type": "code",
   "execution_count": 15,
   "metadata": {},
   "outputs": [],
   "source": [
    "# return optimal die\n",
    "def get_optimal_die():\n",
    "    freq = calculate_freq()\n",
    "    optimal_die = np.zeros((die_data['height'],die_data['width']))\n",
    "    for i in range(die_data['height']):\n",
    "        for j in range(die_data['width']):\n",
    "            max_key = max(freq[i][j],key=freq[i][j].get)\n",
    "            optimal_die[i][j] = max_key\n",
    "            \n",
    "    return optimal_die"
   ]
  },
  {
   "cell_type": "code",
   "execution_count": 16,
   "metadata": {},
   "outputs": [],
   "source": [
    "# calculate error\n",
    "# given all dies and optimal dies, calculate the error\n",
    "def calculate_errors():\n",
    "    optimal_die = get_optimal_die()\n",
    "#     all_dies = individual_dies()\n",
    "    errors = []\n",
    "    for [key,value] in all_dies.items():\n",
    "        for i in range(die_data['height']):\n",
    "            for j in range(die_data['width']):\n",
    "                if value[i][j] != optimal_die[i][j] and check_index(j,die_data['height']-1-i,care_areas,exclusion_zones) == 1:\n",
    "                    error = []\n",
    "                    error.append(key)\n",
    "                    error.append(j)\n",
    "                    error.append(die_data['height']-1-i)\n",
    "                    errors.append(error)\n",
    "    return errors"
   ]
  },
  {
   "cell_type": "code",
   "execution_count": 17,
   "metadata": {},
   "outputs": [],
   "source": [
    "# write file to csv\n",
    "import csv\n",
    "def make_csv_file():\n",
    "    errors = calculate_errors()\n",
    "    print(len(errors))\n",
    "    with open('answer.csv', 'w', newline='') as file:\n",
    "        writer = csv.writer(file)\n",
    "        writer.writerows(errors)"
   ]
  },
  {
   "cell_type": "code",
   "execution_count": 18,
   "metadata": {},
   "outputs": [
    {
     "name": "stdout",
     "output_type": "stream",
     "text": [
      "126347\n"
     ]
    }
   ],
   "source": [
    "make_csv_file()"
   ]
  }
 ],
 "metadata": {
  "kernelspec": {
   "display_name": "Python 3",
   "language": "python",
   "name": "python3"
  },
  "language_info": {
   "codemirror_mode": {
    "name": "ipython",
    "version": 3
   },
   "file_extension": ".py",
   "mimetype": "text/x-python",
   "name": "python",
   "nbconvert_exporter": "python",
   "pygments_lexer": "ipython3",
   "version": "3.8.5"
  }
 },
 "nbformat": 4,
 "nbformat_minor": 4
}
