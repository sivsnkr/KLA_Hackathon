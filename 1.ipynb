{
 "cells": [
  {
   "cell_type": "code",
   "execution_count": 30,
   "metadata": {},
   "outputs": [],
   "source": [
    "# read image data\n",
    "import cv2\n",
    "def read_image(path):\n",
    "    img = cv2.imread(path,cv2.IMREAD_GRAYSCALE)\n",
    "    return img"
   ]
  },
  {
   "cell_type": "code",
   "execution_count": 31,
   "metadata": {},
   "outputs": [],
   "source": [
    "import json\n",
    "def get_die_data(path):\n",
    "    data = \"\"\n",
    "    with open(path) as f:\n",
    "        data = json.load(f)\n",
    "    die_data,care_areas,exclusion_zones = data['die'],data['care_areas'],data['exclusion_zones']\n",
    "    return die_data,care_areas,exclusion_zones"
   ]
  },
  {
   "cell_type": "code",
   "execution_count": 32,
   "metadata": {},
   "outputs": [
    {
     "name": "stdout",
     "output_type": "stream",
     "text": [
      "{'width': 800, 'height': 600, 'rows': 1, 'columns': 5}\n",
      "[{'top_left': {'x': 0, 'y': 600}, 'bottom_right': {'x': 800, 'y': 0}}]\n",
      "[]\n"
     ]
    }
   ],
   "source": [
    "die_data,care_areas,exclusion_zones = get_die_data(\"/Users/shivshankar/Shiv/KLA_Hackathon/Level_1_data/input.json\")\n",
    "# print(img)\n",
    "print(die_data)\n",
    "print(care_areas)\n",
    "print(exclusion_zones)"
   ]
  },
  {
   "cell_type": "code",
   "execution_count": 33,
   "metadata": {},
   "outputs": [
    {
     "name": "stdout",
     "output_type": "stream",
     "text": [
      "(600, 800)\n"
     ]
    }
   ],
   "source": [
    "img = read_image(\"/Users/shivshankar/Shiv/KLA_Hackathon/Level_1_data/wafer_image_1.png\")\n",
    "print(img.shape)"
   ]
  },
  {
   "cell_type": "code",
   "execution_count": 51,
   "metadata": {},
   "outputs": [],
   "source": [
    "# combine all image\n",
    "import numpy as np\n",
    "def combine_image():\n",
    "    c = read_image(\"/Users/shivshankar/Shiv/KLA_Hackathon/Level_1_data/wafer_image_1.png\")\n",
    "    for i in range(2,6):\n",
    "        img = read_image(\"/Users/shivshankar/Shiv/KLA_Hackathon/Level_1_data/wafer_image_\"+str(i)+\".png\")\n",
    "        c = np.concatenate((c,img),axis=1)\n",
    "#     c = np.transpose(c)\n",
    "    return c"
   ]
  },
  {
   "cell_type": "code",
   "execution_count": 55,
   "metadata": {},
   "outputs": [
    {
     "name": "stdout",
     "output_type": "stream",
     "text": [
      "(600, 4000)\n",
      "[[255 255 255 ... 255 255 255]\n",
      " [128 128 128 ... 128 128 128]\n",
      " [128 128 128 ... 128 128 128]\n",
      " ...\n",
      " [128 128 128 ... 128 128 128]\n",
      " [128 128 128 ... 128 128 128]\n",
      " [128 128 128 ... 128 128 128]]\n",
      "[[255 255 255 ... 255 255 255]\n",
      " [128 128 128 ... 128 128 128]\n",
      " [128 128 128 ... 128 128 128]\n",
      " ...\n",
      " [128 128 128 ... 128 128 128]\n",
      " [128 128 128 ... 128 128 128]\n",
      " [128 128 128 ... 128 128 128]]\n",
      "[[255 255 255 ... 255 255 255]\n",
      " [128 128 128 ... 128 128 128]\n",
      " [128 128 128 ... 128 128 128]\n",
      " ...\n",
      " [128 128 128 ... 128 128 128]\n",
      " [128 128 128 ... 128 128 128]\n",
      " [128 128 128 ... 128 128 128]]\n",
      "[[255 255 255 ... 255 255 255]\n",
      " [128 128 128 ... 128 128 128]\n",
      " [128 128 128 ... 128 128 128]\n",
      " ...\n",
      " [128 128 128 ... 128 128 128]\n",
      " [128 128 159 ... 128 128 128]\n",
      " [128 128 128 ... 128 128 128]]\n",
      "[[255 255 255 ... 255 255 255]\n",
      " [128 128 128 ... 128 128 128]\n",
      " [128 128 128 ... 128 128 128]\n",
      " ...\n",
      " [128 128 128 ... 128 128 128]\n",
      " [128 128 128 ... 128 128 128]\n",
      " [128 128 128 ... 128 128 128]]\n"
     ]
    }
   ],
   "source": [
    "import numpy as np\n",
    "c = combine_image()\n",
    "print(c.shape)\n",
    "(j,i) = c.shape\n",
    "dies = dict()\n",
    "dies_count = 1\n",
    "for ind in range(0,i,die_data['width']):\n",
    "    a = c[:,ind:ind+die_data['width']]\n",
    "    dies[str(dies_count)] = a\n",
    "    dies_count+=1\n",
    "    \n",
    "for key,value in dies.items():\n",
    "    print(value)"
   ]
  }
 ],
 "metadata": {
  "kernelspec": {
   "display_name": "Python 3",
   "language": "python",
   "name": "python3"
  },
  "language_info": {
   "codemirror_mode": {
    "name": "ipython",
    "version": 3
   },
   "file_extension": ".py",
   "mimetype": "text/x-python",
   "name": "python",
   "nbconvert_exporter": "python",
   "pygments_lexer": "ipython3",
   "version": "3.8.5"
  }
 },
 "nbformat": 4,
 "nbformat_minor": 4
}
