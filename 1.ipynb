{
 "cells": [
  {
   "cell_type": "code",
   "execution_count": 26,
   "metadata": {},
   "outputs": [],
   "source": [
    "# read image data\n",
    "import cv2\n",
    "def read_image(path):\n",
    "    img = cv2.imread(path)\n",
    "    cv2.imshow(\"image\",img)\n",
    "    return img"
   ]
  },
  {
   "cell_type": "code",
   "execution_count": 34,
   "metadata": {},
   "outputs": [],
   "source": [
    "import json\n",
    "def get_die_data(path):\n",
    "    data = \"\"\n",
    "    with open(path) as f:\n",
    "        data = json.load(f)\n",
    "#     print(data)\n",
    "#     die_data,care_areas,exclusion_zones = data['die'],data['care_areas'],data['exclusion_zones']\n",
    "#     return die_data,care_areas,exclusion_zones"
   ]
  },
  {
   "cell_type": "code",
   "execution_count": 35,
   "metadata": {},
   "outputs": [
    {
     "name": "stdout",
     "output_type": "stream",
     "text": [
      "{'width': 800, 'height': 600, 'rows': 1, 'columns': 5}\n"
     ]
    }
   ],
   "source": [
    "die_data = get_die_data(\"/Users/shivshankar/Shiv/KLA_Hackathon/Level_1_data/input.json\")\n",
    "# print(img)\n",
    "print(die_data)\n",
    "# print(care_areas)\n",
    "# print(exclusion_zones)"
   ]
  }
 ],
 "metadata": {
  "kernelspec": {
   "display_name": "Python 3",
   "language": "python",
   "name": "python3"
  },
  "language_info": {
   "codemirror_mode": {
    "name": "ipython",
    "version": 3
   },
   "file_extension": ".py",
   "mimetype": "text/x-python",
   "name": "python",
   "nbconvert_exporter": "python",
   "pygments_lexer": "ipython3",
   "version": "3.8.5"
  }
 },
 "nbformat": 4,
 "nbformat_minor": 4
}
