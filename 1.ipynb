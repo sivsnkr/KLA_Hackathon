{
 "cells": [
  {
   "cell_type": "code",
   "execution_count": 51,
   "metadata": {},
   "outputs": [],
   "source": [
    "# read image data\n",
    "import cv2\n",
    "def read_image(path):\n",
    "    img = cv2.imread(path,cv2.IMREAD_GRAYSCALE)\n",
    "    return img"
   ]
  },
  {
   "cell_type": "code",
   "execution_count": 52,
   "metadata": {},
   "outputs": [],
   "source": [
    "import json\n",
    "def get_die_data(path):\n",
    "    data = \"\"\n",
    "    with open(path) as f:\n",
    "        data = json.load(f)\n",
    "    die_data,care_areas,exclusion_zones = data['die'],data['care_areas'],data['exclusion_zones']\n",
    "    return die_data,care_areas,exclusion_zones"
   ]
  },
  {
   "cell_type": "code",
   "execution_count": 53,
   "metadata": {},
   "outputs": [
    {
     "name": "stdout",
     "output_type": "stream",
     "text": [
      "{'width': 800, 'height': 600, 'rows': 1, 'columns': 5}\n",
      "[{'top_left': {'x': 0, 'y': 600}, 'bottom_right': {'x': 800, 'y': 0}}]\n",
      "[]\n"
     ]
    }
   ],
   "source": [
    "die_data,care_areas,exclusion_zones = get_die_data(\"/Users/shivshankar/Shiv/KLA_Hackathon/Level_1_data/input.json\")\n",
    "# print(img)\n",
    "print(die_data)\n",
    "print(care_areas)\n",
    "print(exclusion_zones)"
   ]
  },
  {
   "cell_type": "code",
   "execution_count": 54,
   "metadata": {},
   "outputs": [
    {
     "name": "stdout",
     "output_type": "stream",
     "text": [
      "(600, 800)\n"
     ]
    }
   ],
   "source": [
    "img = read_image(\"/Users/shivshankar/Shiv/KLA_Hackathon/Level_1_data/wafer_image_1.png\")\n",
    "print(img.shape)"
   ]
  },
  {
   "cell_type": "code",
   "execution_count": 55,
   "metadata": {},
   "outputs": [],
   "source": [
    "# combine all image\n",
    "import numpy as np\n",
    "def combine_image():\n",
    "    c = read_image(\"/Users/shivshankar/Shiv/KLA_Hackathon/Level_1_data/wafer_image_1.png\")\n",
    "    for i in range(2,6):\n",
    "        img = read_image(\"/Users/shivshankar/Shiv/KLA_Hackathon/Level_1_data/wafer_image_\"+str(i)+\".png\")\n",
    "        c = np.concatenate((c,img),axis=1)\n",
    "#     c = np.transpose(c)\n",
    "    return c"
   ]
  },
  {
   "cell_type": "code",
   "execution_count": 56,
   "metadata": {},
   "outputs": [],
   "source": [
    "# get all individual dies\n",
    "import numpy as np\n",
    "def individual_dies():\n",
    "    c = combine_image()\n",
    "    (j,i) = c.shape\n",
    "    dies = dict()\n",
    "    dies_count = 1\n",
    "    for ind in range(0,i,die_data['width']):\n",
    "        a = c[:,ind:ind+die_data['width']]\n",
    "        dies[str(dies_count)] = a\n",
    "        dies_count+=1\n",
    "    return dies"
   ]
  },
  {
   "cell_type": "code",
   "execution_count": 57,
   "metadata": {},
   "outputs": [],
   "source": [
    "# return optimal die\n",
    "\n",
    "#calculate the frequency of pixel value at each coordinates\n",
    "def calculate_freq():\n",
    "    freq = []\n",
    "    for i in range(die_data['height']):\n",
    "        a = []\n",
    "        for j in range(die_data['width']):\n",
    "            s = dict()\n",
    "            a.append(s)\n",
    "        freq.append(a)\n",
    "\n",
    "    all_dies = individual_dies()\n",
    "    for [key,value] in all_dies.items():\n",
    "        for i in range(die_data['height']):\n",
    "            for j in range(die_data['width']):\n",
    "                if str(value[i][j]) in freq[i][j]:\n",
    "                    freq[i][j][str(value[i][j])]+=1\n",
    "                else:\n",
    "                    freq[i][j][str(value[i][j])]=1\n",
    "\n",
    "\n",
    "\n",
    "    return freq"
   ]
  },
  {
   "cell_type": "code",
   "execution_count": 58,
   "metadata": {},
   "outputs": [],
   "source": [
    "# return optimal die\n",
    "def get_optimal_die():\n",
    "    freq = calculate_freq()\n",
    "    optimal_die = np.zeros((die_data['height'],die_data['width']))\n",
    "    for i in range(die_data['height']):\n",
    "        for j in range(die_data['width']):\n",
    "            max_key = max(freq[i][j],key=freq[i][j].get)\n",
    "            optimal_die[i][j] = max_key\n",
    "            \n",
    "    return optimal_die"
   ]
  },
  {
   "cell_type": "code",
   "execution_count": 59,
   "metadata": {},
   "outputs": [],
   "source": [
    "# calculate error\n",
    "# given all dies and optimal dies, calculate the error\n",
    "def calculate_errors():\n",
    "    optimal_die = get_optimal_die()\n",
    "    all_dies = individual_dies()\n",
    "    errors = []\n",
    "    for [key,value] in all_dies.items():\n",
    "        for i in range(die_data['height']):\n",
    "            for j in range(die_data['width']):\n",
    "                if value[i][j] != optimal_die[i][j]:\n",
    "                    error = []\n",
    "                    error.append(key)\n",
    "                    error.append(j+1)\n",
    "                    error.append(i+1)\n",
    "                    errors.append(error)\n",
    "    return errors"
   ]
  },
  {
   "cell_type": "code",
   "execution_count": 60,
   "metadata": {},
   "outputs": [],
   "source": [
    "# write file to csv\n",
    "import csv\n",
    "def make_csv_file():\n",
    "    errors = calculate_errors()\n",
    "    with open('answer.csv', 'w', newline='') as file:\n",
    "        writer = csv.writer(file)\n",
    "        writer.writerows(errors)"
   ]
  },
  {
   "cell_type": "code",
   "execution_count": 61,
   "metadata": {},
   "outputs": [],
   "source": [
    "make_csv_file()"
   ]
  }
 ],
 "metadata": {
  "kernelspec": {
   "display_name": "Python 3",
   "language": "python",
   "name": "python3"
  },
  "language_info": {
   "codemirror_mode": {
    "name": "ipython",
    "version": 3
   },
   "file_extension": ".py",
   "mimetype": "text/x-python",
   "name": "python",
   "nbconvert_exporter": "python",
   "pygments_lexer": "ipython3",
   "version": "3.8.5"
  }
 },
 "nbformat": 4,
 "nbformat_minor": 4
}
