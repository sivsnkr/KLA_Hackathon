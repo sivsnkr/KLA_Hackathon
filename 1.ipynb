{
 "cells": [
  {
   "cell_type": "code",
   "execution_count": 1,
   "metadata": {},
   "outputs": [],
   "source": [
    "# read image data\n",
    "import cv2\n",
    "def read_image(path):\n",
    "    img = cv2.imread(path,cv2.IMREAD_GRAYSCALE)\n",
    "    return img"
   ]
  },
  {
   "cell_type": "code",
   "execution_count": 2,
   "metadata": {},
   "outputs": [],
   "source": [
    "import json\n",
    "def get_die_data(path):\n",
    "    data = \"\"\n",
    "    with open(path) as f:\n",
    "        data = json.load(f)\n",
    "    die_data,care_areas,exclusion_zones = data['die'],data['care_areas'],data['exclusion_zones']\n",
    "    return die_data,care_areas,exclusion_zones"
   ]
  },
  {
   "cell_type": "code",
   "execution_count": 3,
   "metadata": {},
   "outputs": [],
   "source": [
    "die_data,care_areas,exclusion_zones = get_die_data(\"/Users/shivshankar/Shiv/KLA_Hackathon/Level_1_data/input.json\")"
   ]
  },
  {
   "cell_type": "code",
   "execution_count": 4,
   "metadata": {},
   "outputs": [],
   "source": [
    "# check if pixel in care_area\n",
    "def check_care_area_pixel(i,j,value):\n",
    "    maxx_care = value['bottom_right']['x']\n",
    "    miny_care = value['bottom_right']['y']\n",
    "    minx_care = value['top_left']['x']\n",
    "    maxy_care = value['top_left']['y']\n",
    "    valid = 0\n",
    "    if i >= minx_care and i <= maxx_care and j >= miny_care and j <= maxy_care:\n",
    "        valid = 1\n",
    "    return valid"
   ]
  },
  {
   "cell_type": "code",
   "execution_count": 5,
   "metadata": {},
   "outputs": [],
   "source": [
    "# check if pixel in exclusion zones\n",
    "def check_exclusion_zones_pixel(i,j,value):\n",
    "    maxx_care = value['bottom_right']['x']\n",
    "    miny_care = value['bottom_right']['y']\n",
    "    minx_care = value['top_left']['x']\n",
    "    maxy_care = value['top_left']['y']\n",
    "    valid = 0\n",
    "    if i >= minx_care and i <= maxx_care and j >= miny_care and j <= maxy_care:\n",
    "        valid = 1\n",
    "    return valid"
   ]
  },
  {
   "cell_type": "code",
   "execution_count": 6,
   "metadata": {},
   "outputs": [],
   "source": [
    "# check weather count this error\n",
    "def check_index(i,j,care_areas,exclusion_zones):\n",
    "    is_in_care_area = 0\n",
    "    is_in_exclusion_zones = 0\n",
    "    for value in care_areas:\n",
    "        is_in_care_area = is_in_care_area or check_care_area_pixel(i,j,value)\n",
    "    for value in exclusion_zones:\n",
    "        is_in_exclusion_zones = is_in_exclusion_zones or check_exclusion_zones_pixel(i,j,value)\n",
    "    if is_in_exclusion_zones:\n",
    "        return 0\n",
    "    if is_in_care_area:\n",
    "        return 1\n",
    "    return 0"
   ]
  },
  {
   "cell_type": "code",
   "execution_count": 7,
   "metadata": {},
   "outputs": [],
   "source": [
    "img = read_image(\"/Users/shivshankar/Shiv/KLA_Hackathon/Level_1_data/wafer_image_1.png\")"
   ]
  },
  {
   "cell_type": "code",
   "execution_count": 8,
   "metadata": {},
   "outputs": [],
   "source": [
    "# combine all image\n",
    "import numpy as np\n",
    "def combine_image():\n",
    "    c = read_image(\"/Users/shivshankar/Shiv/KLA_Hackathon/Level_1_data/wafer_image_1.png\")\n",
    "    for i in range(2,6):\n",
    "        img = read_image(\"/Users/shivshankar/Shiv/KLA_Hackathon/Level_1_data/wafer_image_\"+str(i)+\".png\")\n",
    "        c = np.concatenate((c,img),axis=1)\n",
    "        print(c.shape)\n",
    "    return c"
   ]
  },
  {
   "cell_type": "code",
   "execution_count": 9,
   "metadata": {},
   "outputs": [],
   "source": [
    "# get all individual dies\n",
    "import numpy as np\n",
    "def individual_dies():\n",
    "    c = combine_image()\n",
    "    (j,i) = c.shape\n",
    "    dies = dict()\n",
    "    dies_count = 1\n",
    "    for ind in range(0,i,die_data['width']):\n",
    "        a = c[:,ind:ind+die_data['width']]\n",
    "        dies[str(dies_count)] = a\n",
    "        dies_count+=1\n",
    "    return dies"
   ]
  },
  {
   "cell_type": "code",
   "execution_count": 10,
   "metadata": {},
   "outputs": [],
   "source": [
    "# return optimal die\n",
    "\n",
    "#calculate the frequency of pixel value at each coordinates\n",
    "def calculate_freq():\n",
    "    freq = []\n",
    "    for i in range(die_data['height']):\n",
    "        a = []\n",
    "        for j in range(die_data['width']):\n",
    "            s = dict()\n",
    "            a.append(s)\n",
    "        freq.append(a)\n",
    "\n",
    "    all_dies = individual_dies()\n",
    "    for [key,value] in all_dies.items():\n",
    "        for i in range(die_data['height']):\n",
    "            for j in range(die_data['width']):\n",
    "                if str(value[i][j]) in freq[i][j]:\n",
    "                    freq[i][j][str(value[i][j])]+=1\n",
    "                else:\n",
    "                    freq[i][j][str(value[i][j])]=1\n",
    "\n",
    "\n",
    "\n",
    "    return freq"
   ]
  },
  {
   "cell_type": "code",
   "execution_count": 11,
   "metadata": {},
   "outputs": [],
   "source": [
    "# return optimal die\n",
    "def get_optimal_die():\n",
    "    freq = calculate_freq()\n",
    "    optimal_die = np.zeros((die_data['height'],die_data['width']))\n",
    "    for i in range(die_data['height']):\n",
    "        for j in range(die_data['width']):\n",
    "            max_key = max(freq[i][j],key=freq[i][j].get)\n",
    "            optimal_die[i][j] = max_key\n",
    "            \n",
    "    return optimal_die"
   ]
  },
  {
   "cell_type": "code",
   "execution_count": 12,
   "metadata": {},
   "outputs": [],
   "source": [
    "# calculate error\n",
    "# given all dies and optimal dies, calculate the error\n",
    "def calculate_errors():\n",
    "    optimal_die = get_optimal_die()\n",
    "    all_dies = individual_dies()\n",
    "    errors = []\n",
    "    for [key,value] in all_dies.items():\n",
    "        for i in range(die_data['height']):\n",
    "            for j in range(die_data['width']):\n",
    "                if value[i][j] != optimal_die[i][j] and check_index(i,j,care_areas,exclusion_zones):\n",
    "                    error = []\n",
    "                    error.append(key)\n",
    "                    error.append(j)\n",
    "                    error.append(die_data['height']-1-i)\n",
    "                    errors.append(error)\n",
    "    return errors"
   ]
  },
  {
   "cell_type": "code",
   "execution_count": 13,
   "metadata": {},
   "outputs": [],
   "source": [
    "# write file to csv\n",
    "import csv\n",
    "def make_csv_file():\n",
    "    errors = calculate_errors()\n",
    "    with open('answer.csv', 'w', newline='') as file:\n",
    "        writer = csv.writer(file)\n",
    "        writer.writerows(errors)"
   ]
  },
  {
   "cell_type": "code",
   "execution_count": 14,
   "metadata": {},
   "outputs": [
    {
     "name": "stdout",
     "output_type": "stream",
     "text": [
      "(600, 1600)\n",
      "(600, 2400)\n",
      "(600, 3200)\n",
      "(600, 4000)\n",
      "(600, 1600)\n",
      "(600, 2400)\n",
      "(600, 3200)\n",
      "(600, 4000)\n"
     ]
    }
   ],
   "source": [
    "make_csv_file()"
   ]
  }
 ],
 "metadata": {
  "kernelspec": {
   "display_name": "Python 3",
   "language": "python",
   "name": "python3"
  },
  "language_info": {
   "codemirror_mode": {
    "name": "ipython",
    "version": 3
   },
   "file_extension": ".py",
   "mimetype": "text/x-python",
   "name": "python",
   "nbconvert_exporter": "python",
   "pygments_lexer": "ipython3",
   "version": "3.8.5"
  }
 },
 "nbformat": 4,
 "nbformat_minor": 4
}
